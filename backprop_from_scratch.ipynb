{
 "cells": [
  {
   "cell_type": "markdown",
   "metadata": {},
   "source": [
    "# Neural Network\n",
    "\n",
    "The input of the neural network is\n",
    "$x \\in \\mathbb{R}^{k_0 \\times 1}$\n",
    "\n",
    "The output of the $l^{th}$ layer is defined as\n",
    "$a^l = \\sigma(z^l)$\n",
    "\n",
    "being \n",
    "$z^l = w^l a^{l-1} + b^l, w^l \\in \\mathbb{R}^{k_l \\times k_{l-1}}$\n",
    "\n",
    "where\n",
    "$a^0 = x$\n",
    "\n",
    "and $k_l$ is the dimension of the output vector from the $l^{th}$ layer.\n",
    "\n",
    "The output of the last layer is $a^L$."
   ]
  },
  {
   "cell_type": "markdown",
   "metadata": {},
   "source": [
    "# Cost function\n",
    "\n",
    "The cost function sets the objective that the network must learn. Is a function $C(w, x, y) \\ge 0$ and\n",
    "$C \\to 0$ when the network performs good.\n",
    "\n",
    "For example, the $L_2$ norm can be a cost function: \n",
    "\n",
    "$C(w, x, y) = \\frac{1}{n} \\sum_{i=0}^n \\lVert a^L(x^{(i)}) - y^{(i)} \\rVert$ where $x^{(i)}$ is the $i^{th}$ sample from the training set and $y^{(i)}$ is it's corresponding expected output."
   ]
  },
  {
   "cell_type": "markdown",
   "metadata": {},
   "source": [
    "# Gradient\n",
    "\n",
    "$w^l_{ij}$ is the entry in the $i^{th}$ row and $j^{th}$ column from weight matrix that belongs to the $l^{th}$ layer.\n",
    "\n",
    "We need to compute the gradient of the cost function w.r.t the $w$ and $b$ parameters, that is\n",
    "\n",
    "$\\nabla_w C = [\\partial C / \\partial w^0_{00} \\ldots \\partial C / \\partial w^0_{k_1 k_0} \\ldots \\partial C / \\partial w^L_{k_L k_{L-1}}]$"
   ]
  },
  {
   "cell_type": "markdown",
   "metadata": {},
   "source": [
    "## Gradient in the last layer\n",
    "\n",
    "Let's start with the partial derivative of a weight in the last layer, that is $\\partial C / \\partial w^L_{ij}$.\n",
    "\n",
    "By using the chain rule we get\n",
    "\n",
    "$\\frac{\\partial C}{\\partial w^L_{ij}} = \\frac{\\partial C}{\\partial z^L_{i}} \\frac{\\partial z^L_{i}}{\\partial w^L_{ij}}$\n",
    "\n",
    "and define $\\delta^l_i = \\frac{\\partial C}{\\partial z^l_{i}}$\n",
    "\n",
    "$z^L_i = \\sum_{j=0}^{k_L} w^L_{ij} a^{L-1}_j + b_i$\n",
    "\n",
    "$\\frac{\\partial z^L_i}{\\partial w_{ij}} = a^{L-1}_j$\n",
    "\n",
    "then $\\frac{\\partial C}{\\partial w^L_{ij}} = \\delta^L_i a^{L-1}_j$\n",
    "\n",
    "If we write all the partial derivatives for $w^L_{ij}$ we get a matrix of the same shape as $w^l$ which can be written in the following vectorized expression (calling it $\\partial C / \\partial w^L$):\n",
    "\n",
    "$\\partial C / \\partial w^L = \\begin{bmatrix}\n",
    "\\delta^L_0 a^{L-1}_0 & \\delta^L_0 a^{L-1}_1 \\ldots \\delta^L_0 a^{L-1}_{k^{L-1}}\\\\\n",
    "\\delta^L_1 a^{L-1}_0 & \\delta^L_1 a^{L-1}_1 \\ldots \\delta^L_1 a^{L-1}_{k^{L-1}}\\\\\n",
    "\\ldots\\\\\n",
    "\\delta^L_{k^L} a^{L-1}_0 & \\delta^L_0 a^{L-1}_1 \\ldots \\delta^L_{k^L} a^{L-1}_{k^{L-1}}\n",
    "\\end{bmatrix} =\n",
    "\\begin{bmatrix} \\delta^L_0\\\\ \\delta^L_1\\\\ \\ldots\\\\ \\delta^L_{k^L} \\end{bmatrix}\n",
    "\\begin{bmatrix} a^L_0 & a^L_1 & \\ldots & a^L_{k^{L-1}} \\end{bmatrix} = \\delta^L ({a^{L-1}})^T$"
   ]
  },
  {
   "cell_type": "markdown",
   "metadata": {},
   "source": [
    "Now doing it for $b$ we have\n",
    "\n",
    "$\\frac{\\partial C}{\\partial b^L_i} = \\frac{\\partial C}{\\partial z^L_{i}} \\frac{\\partial z^L_{i}}{\\partial b^L_{i}}\n",
    "= \\frac{\\partial C}{\\partial z^L_{i}} 1 = \\delta^L_i$\n",
    "\n",
    "or just $\\frac{\\partial C}{\\partial b^L} = \\delta^L$"
   ]
  },
  {
   "cell_type": "markdown",
   "metadata": {},
   "source": [
    "## Gradient for the next layer\n",
    "\n",
    "We need to find an expression for $\\partial C / \\partial w^{L-1}_{ij}$\n",
    "\n",
    "In this case we note that a neuron in the $L-1$ layer affects all of the neurons in the next layer, so we need to take into account\n",
    "that by summing along all their partial derivatives.\n",
    "\n",
    "$\\frac{\\partial C}{\\partial w^{L-1}_{ij}} = \\sum_{q=0}^{k_L} \\frac{\\partial C}{\\partial z^{L}_{q}} \\frac{\\partial z^L_q}{\\partial z^{L-1}_{i}}\n",
    " \\frac{\\partial z^{L-1}_i}{\\partial w^{L-1}_{ij}}$\n",
    " \n",
    "$\\frac{\\partial z^L_q}{\\partial z^{L-1}_{i}} = \\frac{\\partial z^L_q}{\\partial a^{L-1}_{i}} \\frac{\\partial a^{L-1}_i}{\\partial z^{L-1}_{i}} = \n",
    "w^{L}_{qi} \\sigma'_i$\n",
    "\n",
    "so then the gradient for the weights in the layer $L-1$ is\n",
    "\n",
    "$\\frac{\\partial C}{\\partial w^{L-1}_{ij}} = \\sum_{q=0}^{k_L}\\delta^L_q w^{L}_{qi} \\sigma'_i a^{L-1}_j = \n",
    "\\sigma'_i a^{L-2}_j \\sum_{q=0}^{k_L}\\delta^L_q w^{L}_{qi}$\n",
    "\n",
    "if we write $w^{L}_{qi} = (w^{L}_{iq})^T$ then\n",
    "\n",
    "$\\frac{\\partial C}{\\partial w^{L-1}} = (w^{L})^T \\delta^L (a^{L-2})^T \\odot \\sigma'(z^{L-1}) $\n",
    "\n",
    "noting that $\\delta^{L-1} = \\frac{\\partial C}{\\partial z^{L-1}} = (w^{L})^T \\delta^L \\odot \\sigma'(z^{L-1})$\n",
    "\n",
    "$\\frac{\\partial C}{\\partial w^{L-1}} = \\delta^{L-1} (a^{L-2})^T$\n",
    "\n",
    "while for $b^{L-1}$ the gradient is\n",
    "\n",
    "$\\frac{\\partial C}{\\partial b^{L-1}} = \\delta^{L-1}$"
   ]
  },
  {
   "cell_type": "markdown",
   "metadata": {},
   "source": [
    "## Gradient in any layer\n",
    "\n",
    "We now see the gradient's pattern:\n",
    "\n",
    "$\\delta^l = ((w^{l+1})^T \\delta^{l+1}) \\odot \\sigma'(z^l)$\n",
    "\n",
    "$\\frac{\\partial C}{\\partial w^l} = \\delta^l (a^{l-1})^T$\n",
    "\n",
    "$\\frac{\\partial C}{\\partial b^l} = \\delta^l$"
   ]
  },
  {
   "cell_type": "markdown",
   "metadata": {},
   "source": [
    "# Softmax classifier\n",
    "\n",
    "The sofmax function is defined as $s(z_i)=\\frac{e^{z_i}}{\\sum_j e^{z_j}}$\n",
    "\n",
    "If the last layer on a neural network has $\\sigma(z) = s(z)$ we could use the following cost function:\n",
    "\n",
    "$C = \\sum_{i=0}^n \\sum_{j=0}^{k_L} -log(a^L_j(x^{(i)})) y^{(i)}_j$\n",
    "\n",
    "with the $log$ function being applied element wise.\n",
    "\n",
    "Considering that all the elements in $y^{(i)}$ are 0, except for the one corresponding to the class label we have\n",
    "\n",
    "$\\frac{\\partial C}{\\partial z^L_i} =\n",
    "- \\sum_{i=0}^n \\sum_{j=0}^{k_L} \\sum_{q=0}^{k_L} \\frac{\\partial}{\\partial z^L_q} log(s_j(z^{(i)})) y^{(i)}_j$\n",
    "\n",
    "There are 2 options: either $y^{(i)}_j$ is 0 or 1. When is $y^{(i)}_j = 0$, the gradient is zero aswell. This leaves us with only the is $z^{(i)}_j$ where $y^{(i)}_j = 1$. \n",
    "\n",
    "So for any $y^{(i)}$, there are 2 cases: either $q=j$, i.e. we are deriving on the output corresponding to the correct class or $q \\ne j$, in which case it's the output corresponding to the other clases.\n",
    "\n",
    "$\\frac{\\partial}{\\partial z^L_q} log(s_j(z)) = \\frac{\\partial}{\\partial z^L_q} log(e^{z_j})-\\frac{\\partial}{\\partial z^L_q}log(\\sum_p e^{z_p}) =\n",
    "0 - \\frac{1}{\\sum_p e^{z_p}} \\frac{\\partial}{\\partial z^L_q}\\sum_p e^{z_p} = - \\frac{1}{\\sum_p e^{z_p}} \\frac{\\partial}{\\partial z^L_q}e^{z_q} = - s(z^L)$\n",
    "\n",
    "But when the derivation is on the $z^L_j$ (the one that corresponds to the expected output class):\n",
    "\n",
    "$\\frac{\\partial}{\\partial z^L_j} log(s_j(z)) = \\frac{\\partial}{\\partial z^L_j} log(e^{z_j})-\\frac{\\partial}{\\partial z^L_j}log(\\sum_p e^{z_p}) =\n",
    "1 - \\frac{1}{\\sum_p e^{z_p}} \\frac{\\partial}{\\partial z^L_j}\\sum_p e^{z_p} = 1 - \\frac{1}{\\sum_p e^{z_p}} \\frac{\\partial}{\\partial z^L_j}e^{z_j} = 1 - s(z^L)$"
   ]
  },
  {
   "cell_type": "code",
   "execution_count": 7,
   "metadata": {},
   "outputs": [],
   "source": [
    "import numpy as np\n",
    "from matplotlib import pyplot as plt"
   ]
  },
  {
   "cell_type": "code",
   "execution_count": 11,
   "metadata": {},
   "outputs": [],
   "source": [
    "plt.rcParams['figure.figsize'] = (8, 8)"
   ]
  },
  {
   "cell_type": "code",
   "execution_count": 199,
   "metadata": {},
   "outputs": [],
   "source": [
    "def swirl_gen(n, scale=1, noise=0.65, elems=None):\n",
    "    elems = elems or n * 80\n",
    "    # randomly selects the class\n",
    "    labels = np.random.randint(0, n, elems)\n",
    "    # gets the angle (from the class) and radius\n",
    "    angle = (2 * np.pi * labels) / n\n",
    "    radius = np.random.rand(elems) * scale + scale / 20\n",
    "    # adds more angle when further from the origin\n",
    "    angle += (radius / scale) * np.pi\n",
    "    # adds some noise\n",
    "    angle += np.random.rand(elems) * noise\n",
    "    # converts to standard coordinates\n",
    "    coords = np.vstack((radius * np.cos(angle), radius * np.sin(angle)))\n",
    "    return (coords, labels)"
   ]
  },
  {
   "cell_type": "code",
   "execution_count": 200,
   "metadata": {},
   "outputs": [
    {
     "data": {
      "text/plain": [
       "<matplotlib.collections.PathCollection at 0x7fdc55b9a080>"
      ]
     },
     "execution_count": 200,
     "metadata": {},
     "output_type": "execute_result"
    },
    {
     "data": {
      "image/png": "[encoded data removed]",
      "text/plain": [
       "<Figure size 576x576 with 1 Axes>"
      ]
     },
     "metadata": {
      "needs_background": "light"
     },
     "output_type": "display_data"
    }
   ],
   "source": [
    "n = 3\n",
    "p, labels = swirl_gen(n=n)\n",
    "plt.scatter(*p, c=labels, cmap='jet')"
   ]
  },
  {
   "cell_type": "code",
   "execution_count": 554,
   "metadata": {},
   "outputs": [],
   "source": [
    "def softmax(z):\n",
    "    \"\"\"Softmax activation.\"\"\"\n",
    "    exp = np.exp(z - np.max(z, axis=0))\n",
    "    return exp / np.sum(exp, axis=0)"
   ]
  },
  {
   "cell_type": "code",
   "execution_count": 553,
   "metadata": {},
   "outputs": [],
   "source": [
    "def ReLU(z):\n",
    "    \"\"\"ReLU activation.\"\"\"\n",
    "    return np.maximum(z, 0, z)"
   ]
  },
  {
   "cell_type": "code",
   "execution_count": 555,
   "metadata": {},
   "outputs": [
    {
     "name": "stdout",
     "output_type": "stream",
     "text": [
      "[[0.01165623 0.01165623]\n",
      " [0.03168492 0.03168492]\n",
      " [0.08612854 0.08612854]\n",
      " [0.23412166 0.23412166]\n",
      " [0.63640865 0.63640865]]\n"
     ]
    },
    {
     "data": {
      "text/plain": [
       "array([1., 1.])"
      ]
     },
     "execution_count": 555,
     "metadata": {},
     "output_type": "execute_result"
    }
   ],
   "source": [
    "# softmax test\n",
    "z = np.asarray([[0, 0], [1, 1], [2, 2], [3, 3], [4, 4]]).reshape(5, 2)\n",
    "r = softmax(z)\n",
    "print(r)\n",
    "sum(r)"
   ]
  },
  {
   "cell_type": "code",
   "execution_count": 558,
   "metadata": {},
   "outputs": [],
   "source": [
    "def feedforward(x):\n",
    "    \"\"\"Given a batch of inputs `x` computes the predictions of the neural network.\"\"\"\n",
    "\n",
    "    z1 = np.dot(w1, x)\n",
    "    a1 = ReLU(z1)\n",
    "\n",
    "    z2 = np.dot(w2, a1)\n",
    "    a2 = ReLU(z2)\n",
    "\n",
    "    z3 = np.dot(w3, a2)\n",
    "    return z1, a1, z2, a2, z3, softmax(z3)"
   ]
  },
  {
   "cell_type": "code",
   "execution_count": 589,
   "metadata": {},
   "outputs": [],
   "source": [
    "def cost(z, y):\n",
    "    \"\"\"Given a batch of predictions `a` from the neural network and the corresponding labels `y`,\n",
    "    computs the total cost/loss.\"\"\"\n",
    "    \n",
    "    exp = np.exp(z - np.max(z, axis=0))\n",
    "    expsum = np.sum(exp, axis=0)\n",
    "    exp = exp.T[range(len(y)), y]\n",
    "    return -np.sum(np.log(exp) - np.log(expsum))\n",
    "    \n",
    "    # gets the elements that correspond to the class for each output vector\n",
    "    a = a.T[range(len(y)), y]\n",
    "    # applies logarithm and sums them all\n",
    "    return -np.sum(np.log(a))"
   ]
  },
  {
   "cell_type": "code",
   "execution_count": 617,
   "metadata": {},
   "outputs": [],
   "source": [
    "def finite_differences(dx, x, f, i, epsilon):\n",
    "    v = x.flat[i]\n",
    "\n",
    "    x.flat[i] = v - epsilon\n",
    "    c1 = f(x)\n",
    "\n",
    "    x.flat[i] = v + epsilon\n",
    "    c2 = f(x)\n",
    "\n",
    "    x.flat[i] = v\n",
    "    return (c2 - c1) / (2 * epsilon)\n",
    "\n",
    "def gradient_check(dx, x, f, epsilon=1e-8):\n",
    "    \"\"\"Calculates the gradient of `f` w.r.t `x` using finite differences and compares it\n",
    "    against the given gradient `dx`.\"\"\"\n",
    "\n",
    "    for i in range(len(x.flat)):\n",
    "        numeric_grad = finite_differences(dx, x, f, i, epsilon)\n",
    "        if numeric_grad != 0 and dx.flat[i] != 0:\n",
    "            rel_error = abs(dx.flat[i] - numeric_grad) / (dx.flat[i] + numeric_grad)\n",
    "            assert rel_error < 1e-5, 'relative error of %.8f in %d: ana=%.10f num=%.10f' % (rel_error, i, dx.flat[i], numeric_grad)"
   ]
  },
  {
   "cell_type": "code",
   "execution_count": 619,
   "metadata": {},
   "outputs": [],
   "source": [
    "def backprop(x, y):\n",
    "    \"\"\"Backpropagation algorithm.\"\"\"\n",
    "\n",
    "    num_samples = x.shape[1]\n",
    "    z1, a1, z2, a2, z3, a3 = feedforward(x)\n",
    "\n",
    "    # gradient w.r.t. the cost function\n",
    "    dz3 = np.copy(a3)\n",
    "    dz3.T[range(a3.shape[1]), y] -= 1\n",
    "\n",
    "    # gradient for layer 3 weights\n",
    "    dw3 = np.dot(dz3, a2.T)\n",
    "\n",
    "    # backwards pass to layer 2 and gradient for weights in layer 2\n",
    "    dz2 = np.dot(w3.T, dz3)\n",
    "    dw2 = np.dot(dz2, a1.T)\n",
    "\n",
    "    dz1 = np.dot(w2.T, dz2)\n",
    "    dw1 = np.dot(dz1, x.T)\n",
    "\n",
    "    #epsilons, rel_error = np.linspace(1e-15, 1e-1, 5000), []\n",
    "    #for epsilon in epsilons:\n",
    "    #    i = 18\n",
    "    #    d = finite_differences(dw3, w3, lambda w3: cost(softmax(np.dot(w3, a2)), y), i, epsilon)\n",
    "    #    rel_error.append(abs(dw3.flat[i] - d) / (dw3.flat[i] + d))\n",
    "    #plt.loglog(epsilons, rel_error)\n",
    "    #plt.show()\n",
    "\n",
    "    #gradient_check(dz3, z3, lambda z3: cost(softmax(z3), y))\n",
    "    #gradient_check(dw3, w3, lambda w3: cost(np.dot(w3, a2), y))\n",
    "    #gradient_check(dz2, z2, lambda z2: cost(softmax(np.dot(w3, ReLU(z2))), y))\n",
    "    #gradient_check(dw2, w2, lambda w2: cost(softmax(np.dot(w3, np.dot(w2, a2))), y))\n",
    "    #gradient_check(dz1, z1, lambda z1: cost(softmax(np.dot(w3, np.dot(w2, ReLU(z1)))), y))\n",
    "    #gradient_check(dw1, w1, lambda w1: cost(softmax(np.dot(w3, np.dot(w2, ReLU(np.dot(w1, x))))), y))\n",
    "\n",
    "    return dw1, dw2, dw3"
   ]
  },
  {
   "cell_type": "code",
   "execution_count": 579,
   "metadata": {},
   "outputs": [],
   "source": [
    "def gradient_descent(epochs, lr, w1, w2, w3, x, y):\n",
    "    \"\"\"Runs gradient descent `epochs` times on the given weights `w1`, `w2`, `w3` with learning rate `lr`\n",
    "    for the input samples `x` and corresponding labels `y`.\"\"\"\n",
    "\n",
    "    c = []\n",
    "    for i in range(epochs):\n",
    "        # computes the current cost\n",
    "        c.append(cost(feedforward(x)[-2], y))\n",
    "        # gets the gradient\n",
    "        dw1, dw2, dw3 = backprop(x, y)\n",
    "        # does gradient check\n",
    "        #if i % 100 == 0:\n",
    "        #    gradient_check(dw1, w1, lambda _: cost(feedforward(x)[-1], y))\n",
    "        #    gradient_check(dw2, w2, lambda _: cost(feedforward(x)[-1], y))\n",
    "        # does one GD step\n",
    "        w1 -= dw1 * lr\n",
    "        w2 -= dw2 * lr\n",
    "        w3 -= dw3 * lr\n",
    "    return c"
   ]
  },
  {
   "cell_type": "code",
   "execution_count": 618,
   "metadata": {},
   "outputs": [
    {
     "ename": "AssertionError",
     "evalue": "relative error of 0.00016927 in 0: ana=0.0025911825 num=0.0025920599",
     "output_type": "error",
     "traceback": [
      "\u001b[0;31m---------------------------------------------------------------------------\u001b[0m",
      "\u001b[0;31mAssertionError\u001b[0m                            Traceback (most recent call last)",
      "\u001b[0;32m<ipython-input-618-51e7f45d7f5a>\u001b[0m in \u001b[0;36m<module>\u001b[0;34m\u001b[0m\n\u001b[1;32m      3\u001b[0m \u001b[0mw1\u001b[0m\u001b[0;34m,\u001b[0m \u001b[0mw2\u001b[0m\u001b[0;34m,\u001b[0m \u001b[0mw3\u001b[0m \u001b[0;34m=\u001b[0m \u001b[0mnp\u001b[0m\u001b[0;34m.\u001b[0m\u001b[0mrandom\u001b[0m\u001b[0;34m.\u001b[0m\u001b[0mrandn\u001b[0m\u001b[0;34m(\u001b[0m\u001b[0;36m200\u001b[0m\u001b[0;34m,\u001b[0m \u001b[0;36m2\u001b[0m\u001b[0;34m)\u001b[0m \u001b[0;34m*\u001b[0m \u001b[0;36m0.01\u001b[0m\u001b[0;34m,\u001b[0m \u001b[0mnp\u001b[0m\u001b[0;34m.\u001b[0m\u001b[0mrandom\u001b[0m\u001b[0;34m.\u001b[0m\u001b[0mrandn\u001b[0m\u001b[0;34m(\u001b[0m\u001b[0;36m100\u001b[0m\u001b[0;34m,\u001b[0m \u001b[0;36m200\u001b[0m\u001b[0;34m)\u001b[0m \u001b[0;34m*\u001b[0m \u001b[0;36m0.01\u001b[0m\u001b[0;34m,\u001b[0m \u001b[0mnp\u001b[0m\u001b[0;34m.\u001b[0m\u001b[0mrandom\u001b[0m\u001b[0;34m.\u001b[0m\u001b[0mrandn\u001b[0m\u001b[0;34m(\u001b[0m\u001b[0mn\u001b[0m\u001b[0;34m,\u001b[0m \u001b[0;36m100\u001b[0m\u001b[0;34m)\u001b[0m \u001b[0;34m*\u001b[0m \u001b[0;36m0.01\u001b[0m\u001b[0;34m\u001b[0m\u001b[0;34m\u001b[0m\u001b[0m\n\u001b[1;32m      4\u001b[0m \u001b[0;31m# trains the network\u001b[0m\u001b[0;34m\u001b[0m\u001b[0;34m\u001b[0m\u001b[0;34m\u001b[0m\u001b[0m\n\u001b[0;32m----> 5\u001b[0;31m \u001b[0mplt\u001b[0m\u001b[0;34m.\u001b[0m\u001b[0mplot\u001b[0m\u001b[0;34m(\u001b[0m\u001b[0mgradient_descent\u001b[0m\u001b[0;34m(\u001b[0m\u001b[0;36m50\u001b[0m\u001b[0;34m,\u001b[0m \u001b[0;36m0.00025\u001b[0m\u001b[0;34m,\u001b[0m \u001b[0mw1\u001b[0m\u001b[0;34m,\u001b[0m \u001b[0mw2\u001b[0m\u001b[0;34m,\u001b[0m \u001b[0mw3\u001b[0m\u001b[0;34m,\u001b[0m \u001b[0mp\u001b[0m\u001b[0;34m,\u001b[0m \u001b[0mlabels\u001b[0m\u001b[0;34m)\u001b[0m\u001b[0;34m)\u001b[0m\u001b[0;34m\u001b[0m\u001b[0;34m\u001b[0m\u001b[0m\n\u001b[0m",
      "\u001b[0;32m<ipython-input-579-e506348c27bd>\u001b[0m in \u001b[0;36mgradient_descent\u001b[0;34m(epochs, lr, w1, w2, w3, x, y)\u001b[0m\n\u001b[1;32m      8\u001b[0m         \u001b[0mc\u001b[0m\u001b[0;34m.\u001b[0m\u001b[0mappend\u001b[0m\u001b[0;34m(\u001b[0m\u001b[0mcost\u001b[0m\u001b[0;34m(\u001b[0m\u001b[0mfeedforward\u001b[0m\u001b[0;34m(\u001b[0m\u001b[0mx\u001b[0m\u001b[0;34m)\u001b[0m\u001b[0;34m[\u001b[0m\u001b[0;34m-\u001b[0m\u001b[0;36m2\u001b[0m\u001b[0;34m]\u001b[0m\u001b[0;34m,\u001b[0m \u001b[0my\u001b[0m\u001b[0;34m)\u001b[0m\u001b[0;34m)\u001b[0m\u001b[0;34m\u001b[0m\u001b[0;34m\u001b[0m\u001b[0m\n\u001b[1;32m      9\u001b[0m         \u001b[0;31m# gets the gradient\u001b[0m\u001b[0;34m\u001b[0m\u001b[0;34m\u001b[0m\u001b[0;34m\u001b[0m\u001b[0m\n\u001b[0;32m---> 10\u001b[0;31m         \u001b[0mdw1\u001b[0m\u001b[0;34m,\u001b[0m \u001b[0mdw2\u001b[0m\u001b[0;34m,\u001b[0m \u001b[0mdw3\u001b[0m \u001b[0;34m=\u001b[0m \u001b[0mbackprop\u001b[0m\u001b[0;34m(\u001b[0m\u001b[0mx\u001b[0m\u001b[0;34m,\u001b[0m \u001b[0my\u001b[0m\u001b[0;34m)\u001b[0m\u001b[0;34m\u001b[0m\u001b[0;34m\u001b[0m\u001b[0m\n\u001b[0m\u001b[1;32m     11\u001b[0m         \u001b[0;31m# does gradient check\u001b[0m\u001b[0;34m\u001b[0m\u001b[0;34m\u001b[0m\u001b[0;34m\u001b[0m\u001b[0m\n\u001b[1;32m     12\u001b[0m         \u001b[0;31m#if i % 100 == 0:\u001b[0m\u001b[0;34m\u001b[0m\u001b[0;34m\u001b[0m\u001b[0;34m\u001b[0m\u001b[0m\n",
      "\u001b[0;32m<ipython-input-613-d64687f2cb52>\u001b[0m in \u001b[0;36mbackprop\u001b[0;34m(x, y)\u001b[0m\n\u001b[1;32m     28\u001b[0m \u001b[0;34m\u001b[0m\u001b[0m\n\u001b[1;32m     29\u001b[0m     \u001b[0;31m#gradient_check(dz3, z3, lambda z3: cost(softmax(z3), y))\u001b[0m\u001b[0;34m\u001b[0m\u001b[0;34m\u001b[0m\u001b[0;34m\u001b[0m\u001b[0m\n\u001b[0;32m---> 30\u001b[0;31m     \u001b[0mgradient_check\u001b[0m\u001b[0;34m(\u001b[0m\u001b[0mdw3\u001b[0m\u001b[0;34m,\u001b[0m \u001b[0mw3\u001b[0m\u001b[0;34m,\u001b[0m \u001b[0;32mlambda\u001b[0m \u001b[0mw3\u001b[0m\u001b[0;34m:\u001b[0m \u001b[0mcost\u001b[0m\u001b[0;34m(\u001b[0m\u001b[0mnp\u001b[0m\u001b[0;34m.\u001b[0m\u001b[0mdot\u001b[0m\u001b[0;34m(\u001b[0m\u001b[0mw3\u001b[0m\u001b[0;34m,\u001b[0m \u001b[0ma2\u001b[0m\u001b[0;34m)\u001b[0m\u001b[0;34m,\u001b[0m \u001b[0my\u001b[0m\u001b[0;34m)\u001b[0m\u001b[0;34m)\u001b[0m\u001b[0;34m\u001b[0m\u001b[0;34m\u001b[0m\u001b[0m\n\u001b[0m\u001b[1;32m     31\u001b[0m     \u001b[0;31m#gradient_check(dz2, z2, lambda z2: cost(softmax(np.dot(w3, ReLU(z2))), y))\u001b[0m\u001b[0;34m\u001b[0m\u001b[0;34m\u001b[0m\u001b[0;34m\u001b[0m\u001b[0m\n\u001b[1;32m     32\u001b[0m     \u001b[0;31m#gradient_check(dw2, w2, lambda w2: cost(softmax(np.dot(w3, np.dot(w2, a2))), y))\u001b[0m\u001b[0;34m\u001b[0m\u001b[0;34m\u001b[0m\u001b[0;34m\u001b[0m\u001b[0m\n",
      "\u001b[0;32m<ipython-input-617-f215c5b5dd21>\u001b[0m in \u001b[0;36mgradient_check\u001b[0;34m(dx, x, f, epsilon)\u001b[0m\n\u001b[1;32m     19\u001b[0m         \u001b[0;32mif\u001b[0m \u001b[0mnumeric_grad\u001b[0m \u001b[0;34m!=\u001b[0m \u001b[0;36m0\u001b[0m \u001b[0;32mand\u001b[0m \u001b[0mdx\u001b[0m\u001b[0;34m.\u001b[0m\u001b[0mflat\u001b[0m\u001b[0;34m[\u001b[0m\u001b[0mi\u001b[0m\u001b[0;34m]\u001b[0m \u001b[0;34m!=\u001b[0m \u001b[0;36m0\u001b[0m\u001b[0;34m:\u001b[0m\u001b[0;34m\u001b[0m\u001b[0;34m\u001b[0m\u001b[0m\n\u001b[1;32m     20\u001b[0m             \u001b[0mrel_error\u001b[0m \u001b[0;34m=\u001b[0m \u001b[0mabs\u001b[0m\u001b[0;34m(\u001b[0m\u001b[0mdx\u001b[0m\u001b[0;34m.\u001b[0m\u001b[0mflat\u001b[0m\u001b[0;34m[\u001b[0m\u001b[0mi\u001b[0m\u001b[0;34m]\u001b[0m \u001b[0;34m-\u001b[0m \u001b[0mnumeric_grad\u001b[0m\u001b[0;34m)\u001b[0m \u001b[0;34m/\u001b[0m \u001b[0;34m(\u001b[0m\u001b[0mdx\u001b[0m\u001b[0;34m.\u001b[0m\u001b[0mflat\u001b[0m\u001b[0;34m[\u001b[0m\u001b[0mi\u001b[0m\u001b[0;34m]\u001b[0m \u001b[0;34m+\u001b[0m \u001b[0mnumeric_grad\u001b[0m\u001b[0;34m)\u001b[0m\u001b[0;34m\u001b[0m\u001b[0;34m\u001b[0m\u001b[0m\n\u001b[0;32m---> 21\u001b[0;31m             \u001b[0;32massert\u001b[0m \u001b[0mrel_error\u001b[0m \u001b[0;34m<\u001b[0m \u001b[0;36m1e-5\u001b[0m\u001b[0;34m,\u001b[0m \u001b[0;34m'relative error of %.8f in %d: ana=%.10f num=%.10f'\u001b[0m \u001b[0;34m%\u001b[0m \u001b[0;34m(\u001b[0m\u001b[0mrel_error\u001b[0m\u001b[0;34m,\u001b[0m \u001b[0mi\u001b[0m\u001b[0;34m,\u001b[0m \u001b[0mdx\u001b[0m\u001b[0;34m.\u001b[0m\u001b[0mflat\u001b[0m\u001b[0;34m[\u001b[0m\u001b[0mi\u001b[0m\u001b[0;34m]\u001b[0m\u001b[0;34m,\u001b[0m \u001b[0mnumeric_grad\u001b[0m\u001b[0;34m)\u001b[0m\u001b[0;34m\u001b[0m\u001b[0;34m\u001b[0m\u001b[0m\n\u001b[0m",
      "\u001b[0;31mAssertionError\u001b[0m: relative error of 0.00016927 in 0: ana=0.0025911825 num=0.0025920599"
     ]
    }
   ],
   "source": [
    "np.random.seed(0)\n",
    "# creates the weights of 2 layers\n",
    "w1, w2, w3 = np.random.randn(200, 2) * 0.01, np.random.randn(100, 200) * 0.01, np.random.randn(n, 100) * 0.01\n",
    "# trains the network\n",
    "plt.plot(gradient_descent(50, 0.00025, w1, w2, w3, p, labels))"
   ]
  },
  {
   "cell_type": "code",
   "execution_count": 564,
   "metadata": {},
   "outputs": [
    {
     "name": "stdout",
     "output_type": "stream",
     "text": [
      "accuracy:  0.5791666666666667\n"
     ]
    }
   ],
   "source": [
    "predictions = np.argmax(feedforward(p)[-1], axis=0)\n",
    "hits = np.sum(predictions == labels)\n",
    "print('accuracy: ', hits / labels.shape[0])"
   ]
  }
 ],
 "metadata": {
  "kernelspec": {
   "display_name": "Python 3",
   "language": "python",
   "name": "python3"
  },
  "language_info": {
   "codemirror_mode": {
    "name": "ipython",
    "version": 3
   },
   "file_extension": ".py",
   "mimetype": "text/x-python",
   "name": "python",
   "nbconvert_exporter": "python",
   "pygments_lexer": "ipython3",
   "version": "3.7.6"
  }
 },
 "nbformat": 4,
 "nbformat_minor": 4
}
